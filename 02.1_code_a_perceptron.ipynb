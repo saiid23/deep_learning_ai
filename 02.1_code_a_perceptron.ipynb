{
  "cells": [
    {
      "cell_type": "markdown",
      "metadata": {
        "id": "jIFoLaW3v3_j"
      },
      "source": [
        "![Practicum AI Logo image](https://github.com/saiid23/deep_learning_ai/blob/main/images/practicum_ai_logo.png?raw=1) <img src='https://github.com/saiid23/deep_learning_ai/blob/main/images/practicumai_deep_learning.png?raw=1' alt='Practicum AI: Deep Learning Foundations icon' align='right' width=50>\n",
        "\n",
        "\n",
        "***\n",
        "# *Practicum AI:* Deep Learning - Perceptron\n",
        "\n",
        "\n",
        "> This exercise adapted from the [W3 Schools Perceptrons](https://www.w3schools.com/ai/ai_perceptrons.asp) article and from Baig et al. (2020) The Deep Learning Workshop from [Packt Publishers](https://www.packtpub.com/product/the-deep-learning-workshop/9781839219856) (Exercise 2.01, page 55).\n",
        "\n",
        "<img alt=\"A cartoon of Dr. Amelia, a nutrition researcher, sitting at a computer thinking about food items which appear in a thought bubble.\" src=\"https://github.com/saiid23/deep_learning_ai/blob/main/images/DrAmelia.jpg?raw=1\" align=\"right\" width=250>Amelia is back! This time, she needs your help to analyze some of her survey data. As part of Amelia's dietary study, participants are also asked to follow a special nutrition plan, the Dr. Amelia Recommended Nutrition Plan (the DARN Plan). We'll use a simple [perceptron](https://developers.google.com/machine-learning/glossary#perceptron) to predict if participants follow the DARN Plan.\n",
        "\n",
        "**Note:** Dr. Amelia's cartoon was generated with AI's assistance.\n",
        "\n",
        "As a note, this exercise lies somewhere between coding everything from scratch and relying on the pre-coded APIs (Application Programming Interfaces) that underlie the power of TensorFlow, Keras, and Pytorch. **You will not need to create weight tensors beyond this exercise**. Still, hopefully, by doing it this time, you will have a better understanding (*and appreciation*) of the details often lost in an API call to `model.fit()`, for example.\n",
        "\n",
        "The table below shows some data Amelia has gathered from participant surveys about their nutrition. She is looking at how different factors predict if participants follow her DARN Plan ($y$, the output or [labels](https://developers.google.com/machine-learning/glossary#label) in our example) based on three input variables: if participants submit photos of three meals a day ($x_1$), if participants report being satisfied with their food choices ($x_2$), and if participants report being generally happy ($x_3$). We will combine $x_1$, $x_2$, and $x_3$ into our input tensor $X$. Here, we are simplifying the question of the likelihood of following the DARN Plan to a Yes/No.\n",
        "\n",
        "Case # | Photos of 3 meals submitted? ($x_1$) | Satisfied with food choices? ($x_2$) | Generally happy? ($x_3$) | Following the DARN Plan? ($y$)\n",
        "--|--------------------------|---------------------|-----------------------|----------------\n",
        "1 | 1 (Yes) | 1 (Yes) | 1 (Yes) | Yes (1)\n",
        "2 | 0 (No) | 1 (Yes) | 1 (Yes) | Yes (1)\n",
        "3 | 1 (Yes) | 0 (No) | 1 (Yes) | Yes (1)\n",
        "4 | 0 (No) | 0 (No) | 1 (Yes) | Yes (1)\n",
        "5 | 1 (Yes) | 1 (Yes) | 0 (No) | Yes (1)\n",
        "6 | 0 (No) | 1 (Yes) | 0 (No) | No (0)\n",
        "7 | 1 (Yes) | 0 (No) | 0 (No) | No (0)\n",
        "8 | 0 (No) | 0 (No) | 0 (No) | No (0)\n",
        "\n",
        "\n",
        "## 1. Import libraries\n",
        "\n",
        "### <img src='https://github.com/saiid23/deep_learning_ai/blob/main/images/note_icon.svg?raw=1' width=40, align='center' alt='Note icon'> Note\n",
        "\n",
        "> * We'll probably stop reminding you after this, but... remember not all red output is bad!\n",
        "> * Also, remember to check that the correct kernel is selected."
      ]
    },
    {
      "cell_type": "code",
      "execution_count": 1,
      "metadata": {
        "id": "z8f9RjBXv3_l"
      },
      "outputs": [],
      "source": [
        "import tensorflow as tf\n",
        "import pandas as pd\n",
        "from tensorflow.keras import activations\n",
        "\n",
        "from matplotlib import pyplot as plt"
      ]
    },
    {
      "cell_type": "markdown",
      "metadata": {
        "id": "7-xa5EAMv3_m"
      },
      "source": [
        "## 2. Create an input data matrix\n",
        "\n",
        "Create a 3 x 8 matrix for our input data. Remember that we have three input variables (we'll call them $x_1$, $x_2$, and $x_3$ for now). These variables are the columns in our input data.\n",
        "\n",
        "The matrix below has the three input columns of our data table, using just the 0/1 values corresponding to the no/yes entries in the table. The comments help match rows of the table with entries in our `X` variable. (Remember, we are using the capital letter `X` as our variable name here to remind us that this is a matrix with our input data)."
      ]
    },
    {
      "cell_type": "code",
      "execution_count": 2,
      "metadata": {
        "id": "oGJb54e3v3_n",
        "outputId": "d10f6ddc-b8b2-419e-f872-3b6d58ea5d9f",
        "colab": {
          "base_uri": "https://localhost:8080/"
        }
      },
      "outputs": [
        {
          "output_type": "stream",
          "name": "stdout",
          "text": [
            "<tf.Variable 'Variable:0' shape=(8, 3) dtype=float32, numpy=\n",
            "array([[1., 1., 1.],\n",
            "       [0., 1., 1.],\n",
            "       [1., 0., 1.],\n",
            "       [0., 0., 1.],\n",
            "       [1., 1., 0.],\n",
            "       [0., 1., 0.],\n",
            "       [1., 0., 0.],\n",
            "       [0., 0., 0.]], dtype=float32)>\n"
          ]
        }
      ],
      "source": [
        "X = tf.Variable([[1.,1.,1.], # Case 1\n",
        "                 [0.,1.,1.], # Case 2\n",
        "                 [1.,0.,1.], # Case 3\n",
        "                 [0.,0.,1.], # Case 4\n",
        "                 [1.,1.,0.], # Case 5\n",
        "                 [0.,1.,0.], # Case 6\n",
        "                 [1.,0.,0.], # Case 7\n",
        "                 [0.,0.,0.]], # Case 8\n",
        "                 dtype = tf.float32)  # 3x8, input data table\n",
        "print(X)\n"
      ]
    },
    {
      "cell_type": "markdown",
      "metadata": {
        "id": "X2uFkk6av3_n"
      },
      "source": [
        "## 3. Create a label tensor\n",
        "\n",
        "Create a tensor of labels to hold our 'ground truth'. This indicates, for each set of input, whether or not the participant is following the DARN Plan.\n",
        "\n",
        "```python\n",
        "# Outputs:       1, 2, 3, 4, 5, 6, 7, 8 - one for each case in the table         \n",
        "y = tf.Variable([1, 1, 1, 1, 1, 0, 0, 0], dtype = tf.float32)\n",
        "\n",
        "# Reshape to be 8 rows of 1 column  \n",
        "y = tf.reshape(y, [8,1])\n",
        "print(y)\n",
        "```"
      ]
    },
    {
      "cell_type": "code",
      "execution_count": 3,
      "metadata": {
        "id": "66to_MzQv3_o",
        "outputId": "11a9790f-8fa8-41c2-96d4-2e5193edcc2f",
        "colab": {
          "base_uri": "https://localhost:8080/"
        }
      },
      "outputs": [
        {
          "output_type": "stream",
          "name": "stdout",
          "text": [
            "tf.Tensor(\n",
            "[[1.]\n",
            " [1.]\n",
            " [1.]\n",
            " [1.]\n",
            " [1.]\n",
            " [0.]\n",
            " [0.]\n",
            " [0.]], shape=(8, 1), dtype=float32)\n"
          ]
        }
      ],
      "source": [
        "# Code it!\n",
        "y = tf.Variable([1, 1, 1, 1, 1, 0, 0, 0], dtype = tf.float32)\n",
        "y = tf.reshape(y, [8,1])\n",
        "print(y)"
      ]
    },
    {
      "cell_type": "markdown",
      "metadata": {
        "id": "T37HUqX8v3_o"
      },
      "source": [
        "## 4. Define some constants to set the shape of the weight matrix\n",
        "\n",
        "Define two constants to be used in the next step when we define the connections weight matrix.\n",
        "\n",
        "We can use the number of columns in the X table to determine the number of features or how many $x_i$ we have and, therefore, how many weights we need to store (one for each feature). We only need one output value since we are looking for a binary decision about plan adherence (Yes/No)."
      ]
    },
    {
      "cell_type": "markdown",
      "metadata": {
        "id": "V7rIHi_rv3_p"
      },
      "source": [
        "```python\n",
        "num_features = X.shape[1]\n",
        "output_size = 1\n",
        "```"
      ]
    },
    {
      "cell_type": "code",
      "execution_count": 4,
      "metadata": {
        "id": "dQG6s9Ltv3_p"
      },
      "outputs": [],
      "source": [
        "# Code it!\n",
        "num_features = X.shape[1]\n",
        "output_size = 1"
      ]
    },
    {
      "cell_type": "markdown",
      "metadata": {
        "id": "-v9gckv2v3_q"
      },
      "source": [
        "***\n",
        "\n",
        "## 5. Define connections weight matrix\n",
        "\n",
        "![Diagram of the perceptron with 3 input variables (x1, x2, x3), 3 weights (w1, W2, w3) and the bias term. The perceptron body multiplies the inputs by the weights and sums them and the bias, resulting in the output--whether or not the participant is following the DARN Plan. The three weights are highlighted here.](https://github.com/saiid23/deep_learning_ai/blob/main/images/02_perceptron_section5.png?raw=1)\n",
        "\n",
        "In our feature matrix, we will need one weight for each feature, $x_i$ (three photos submitted, satisfied with food choices, etc.), labeled $X$. These weights are our $w_i$. We don't know what value they should take so we will initialize them with a random, positive number - this is one reason different runs of model training may give different answers. Another common option is to use 0 to initialize the weights, though that can have issues in training.\n",
        "\n",
        "```python\n",
        "W = tf.Variable(tf.random.uniform([num_features, output_size]), minvalue=0, dtype = tf.float32)\n",
        "print(W)\n",
        "```"
      ]
    },
    {
      "cell_type": "code",
      "execution_count": 5,
      "metadata": {
        "id": "Yy29Gkhvv3_q",
        "outputId": "994d65db-c1cc-4bf5-c96e-0548e9c9221e",
        "colab": {
          "base_uri": "https://localhost:8080/"
        }
      },
      "outputs": [
        {
          "output_type": "stream",
          "name": "stdout",
          "text": [
            "<tf.Variable 'Variable:0' shape=(3, 1) dtype=float32, numpy=\n",
            "array([[0.5090016 ],\n",
            "       [0.05469012],\n",
            "       [0.22270894]], dtype=float32)>\n"
          ]
        }
      ],
      "source": [
        "# Code it!\n",
        "W = tf.Variable(tf.random.uniform([num_features, output_size]), minvalue=0, dtype = tf.float32)\n",
        "print(W)"
      ]
    },
    {
      "cell_type": "markdown",
      "metadata": {
        "id": "-0FEEkzyv3_q"
      },
      "source": [
        "***\n",
        "\n",
        "## 6. Define bias variable\n",
        "\n",
        "![Diagram of the perceptron with 3 input variables (x1, x2, x3), 3 weights (w1, W2, w3) and the bias term. This is similar to the above image, but is highlighting the bias term](https://github.com/saiid23/deep_learning_ai/blob/main/images/02_perceptron_section6.png?raw=1)\n",
        "\n",
        "Since we only have one neuron, we only need one bias value. Again, we'll initialize it to a random number - 0 would be another option here. We can write each bias term as $b_i$ and the matrix of all biases as $B$.\n",
        "\n",
        "```python\n",
        "B = tf.Variable(tf.random.normal([output_size, 1]), dtype = tf.float32)\n",
        "print(B)\n",
        "```"
      ]
    },
    {
      "cell_type": "code",
      "execution_count": 6,
      "metadata": {
        "id": "1u2wy-wdv3_r",
        "outputId": "939ae99c-25a9-4d10-ac8d-8d77b8590297",
        "colab": {
          "base_uri": "https://localhost:8080/"
        }
      },
      "outputs": [
        {
          "output_type": "stream",
          "name": "stdout",
          "text": [
            "<tf.Variable 'Variable:0' shape=(1, 1) dtype=float32, numpy=array([[-0.5840258]], dtype=float32)>\n"
          ]
        }
      ],
      "source": [
        "# Code it!\n",
        "B = tf.Variable(tf.random.normal([output_size, 1]), dtype = tf.float32)\n",
        "print(B)"
      ]
    },
    {
      "cell_type": "markdown",
      "metadata": {
        "id": "axsZRCPBv3_r"
      },
      "source": [
        "***\n",
        "\n",
        "## 7. Define a perceptron function\n",
        "\n",
        "![Diagram of the perceptron with 3 input variables (x1, x2, x3), 3 weights (w1, W2, w3) and the bias term. This is similar to the above image, but is highlighting the perceptron body.](https://github.com/saiid23/deep_learning_ai/blob/main/images/02_perceptron_section7.png?raw=1)\n",
        "\n",
        "\n",
        "In the following code block, we define a perceptron function with one input argument, $X$, containing our three input data features.\n",
        "\n",
        "The function's first line implements a net input function.  It multiplies the input data matrix ($X$) by the weights ($W$) using the matrix multiplication function (matmul).  It then adds the bias ($B$) value to that product.\n",
        "\n",
        "### <img src='https://github.com/saiid23/deep_learning_ai/blob/main/images/note_icon.svg?raw=1' width=40, align='center' alt='Note icon'>Note\n",
        "> This is the essential function of a neuron: gather the inputs, multiply each input by the weight for that input, add the products up and add in the bias.\n",
        "\n",
        "The function's second line implements an activation function. The activation function determines how the neuron's output (calculated above) is changed before passing it on. Here, we use the `tanh` activation function.  However, there are other TensorFlow options.  For example, you could use the `tf.sigmoid` function.  Or, select a function from the Keras activation (`activations`) library.  Search the [Keras documentation](https://keras.io/api/layers/activations/) for a complete list of available functions.\n",
        "\n",
        "Try out these other options, retrain the network, and see what happens.\n",
        "\n",
        "```python\n",
        "output = tf.sigmoid(z)\n",
        "output = activations.relu(z)\n",
        "output = activations.linear(z)\n",
        "```"
      ]
    },
    {
      "cell_type": "code",
      "execution_count": 7,
      "metadata": {
        "id": "8llQ36mXv3_r"
      },
      "outputs": [],
      "source": [
        "def perceptron(X):\n",
        "    z = tf.add(tf.matmul(X, W), B)  # Net input function\n",
        "    output = tf.tanh(z)             # Activation function\n",
        "    return output"
      ]
    },
    {
      "cell_type": "markdown",
      "metadata": {
        "id": "ENoDiZTSv3_r"
      },
      "source": [
        "Execute the perceptron function to see its initial predictions before any training.  All of its predictions ought to be 0 (remember we set all the weights and the bias to 0 - so whatever the inputs are, they are all multiplied by 0 and have 0 added to the sum)."
      ]
    },
    {
      "cell_type": "code",
      "execution_count": 8,
      "metadata": {
        "id": "_hSHiBYuv3_r",
        "outputId": "bdeab001-980e-4318-d024-8ff6eb35dd7f",
        "colab": {
          "base_uri": "https://localhost:8080/"
        }
      },
      "outputs": [
        {
          "output_type": "stream",
          "name": "stdout",
          "text": [
            "tf.Tensor(\n",
            "[[ 0.1996566 ]\n",
            " [-0.2973652 ]\n",
            " [ 0.1466203 ]\n",
            " [-0.34637344]\n",
            " [-0.02033126]\n",
            " [-0.48487312]\n",
            " [-0.07488373]\n",
            " [-0.5255853 ]], shape=(8, 1), dtype=float32)\n"
          ]
        }
      ],
      "source": [
        "# Execute the perceptron to see its initial predictions before training.\n",
        "print(perceptron(X))"
      ]
    },
    {
      "cell_type": "markdown",
      "metadata": {
        "id": "bLHkZsZJv3_r"
      },
      "source": [
        "## 8. Training the Perceptron\n",
        "\n",
        "Now that we have the elements of a simple, single-node perceptron in place, let's train the network using an algorithm called \"stochastic gradient descent\" (SGD). The purpose of SGD is to iteratively adjust the weights and bias parameters of the single neuron in our model and eventually, we hope, find values that make our neuron's predictions as good as possible. Tensorflow/Keras implements this algorithm for us, so we don't need to code it ourselves.\n",
        "\n",
        "The [learning rate](https://developers.google.com/machine-learning/glossary#learning-rate) determines the size of the steps taken towards the global minimum. Here, the Stochastic Gradient Descent (SGD) optimizer has been selected."
      ]
    },
    {
      "cell_type": "code",
      "execution_count": 9,
      "metadata": {
        "id": "Nt-yEuhkv3_r"
      },
      "outputs": [],
      "source": [
        "learning_rate = 0.01\n",
        "optimizer = tf.optimizers.SGD(learning_rate)"
      ]
    },
    {
      "cell_type": "markdown",
      "metadata": {
        "id": "J6nJdS6-v3_s"
      },
      "source": [
        "## 9. Train the perceptron for 1000 epochs\n",
        "\n",
        "An [epoch](https://developers.google.com/machine-learning/glossary#epoch) is a complete training pass over the entire dataset. Our loss or error function is defined as a lambda function (a single-line, inline function) in the first line of code in the loop block.  We use the `sigmoid_cross_entropy_with_logits` function, an appropriate choice for this application, to calculate how far our predicted results are from the known results. We will not get into the technical details here as that is outside the scope of this learning experience. Our SGD optimizer seeks to minimize the model's total error in the second line.\n",
        "\n",
        "### <img src='https://github.com/saiid23/deep_learning_ai/blob/main/images/note_icon.svg?raw=1' width=40, align='center' alt='Note icon'>Note\n",
        "> The code below uses a `for` loop. This common programming construct allows you to loop, or iterate, through\n",
        "> a list of items (the numbers 0 to 999 in our case). *Implicitly*, training will use `for` loops - for each epoch do\n",
        "> this thing. *Explicitly*, however, after this notebook, we will use the API that automatically does this for us.\n",
        "> Thus we dropped coverage of `for` loops and other \"flow control\" methods from the *Python for AI* course. It's\n",
        "> helpful to know about them, but they are rarely used explicitly in AI research.\n",
        "> [Click here for more details](https://wiki.python.org/moin/ForLoop).\n",
        ">\n",
        "> The block also uses a special Python function called a `lambda` function. These are functions that can be\n",
        "> written as a single line of code. [Click here for more\n",
        "> details](https://docs.python.org/3/tutorial/controlflow.html#lambda-expressions)."
      ]
    },
    {
      "cell_type": "code",
      "execution_count": 11,
      "metadata": {
        "tags": [],
        "id": "jH-srgSOv3_s"
      },
      "outputs": [],
      "source": [
        "#no_of_epochs = 1000\n",
        "\n",
        "#for n in range(no_of_epochs):\n",
        " #   loss = lambda:abs(tf.reduce_mean(tf.nn.sigmoid_cross_entropy_with_logits(labels = y, logits = perceptron(X))))\n",
        "  #  optimizer.minimize(loss, [W, B])\n",
        "\n",
        "no_of_epochs = 1000\n",
        "\n",
        "for n in range(no_of_epochs):\n",
        "    # Use GradientTape to record operations for automatic differentiation\n",
        "    with tf.GradientTape() as tape:\n",
        "        # Calculate the loss inside the tape context\n",
        "        # The loss function remains the same\n",
        "        loss = tf.reduce_mean(tf.nn.sigmoid_cross_entropy_with_logits(labels=y, logits=perceptron(X)))\n",
        "\n",
        "    # Compute gradients of the loss with respect to the trainable variables (W and B)\n",
        "    gradients = tape.gradient(loss, [W, B])\n",
        "\n",
        "    # Apply the computed gradients to update W and B\n",
        "    optimizer.apply_gradients(zip(gradients, [W, B]))\n",
        "\n",
        "    # Optional: Print loss periodically to see training progress\n",
        "    # if (n + 1) % 100 == 0:\n",
        "    #     print(f\"Epoch {n+1}, Loss: {loss.numpy()}\")\n"
      ]
    },
    {
      "cell_type": "markdown",
      "metadata": {
        "id": "loeuiy-Bv3_s"
      },
      "source": [
        "## 10. Print the weights\n",
        "<img alt=\"AI Generated cartoon of happy people eating healthy food.\" src=\"https://github.com/saiid23/deep_learning_ai/blob/main/images/happy_people.jpg?raw=1\" align=\"right\" width=\"300\">\n",
        "\n",
        "Notice that the model has learned that the general happiness of a participant is the best predictor of whether or not they are following the DARN Plan! Of the weights, the 3rd one has the largest value.\n",
        "\n",
        "Given that the input from each feature will be a 0 or a 1, multiplying by a larger weight will increase the contribution of that feature in the summation of all input-by-weight products ($x_i * w_i$) in determining the output of the neuron.\n",
        "\n",
        "The perceptron has learned how to take the three input variables and weigh them to predict the output.\n",
        "\n",
        "**Note:** The image was generated with AI's assistance.\n",
        "\n",
        "```python\n",
        "print(W)\n",
        "```"
      ]
    },
    {
      "cell_type": "code",
      "execution_count": 12,
      "metadata": {
        "id": "pkn4OIfcv3_s",
        "outputId": "e5e649b7-fbff-4d01-f306-d6f89f83db7f",
        "colab": {
          "base_uri": "https://localhost:8080/"
        }
      },
      "outputs": [
        {
          "output_type": "stream",
          "name": "stdout",
          "text": [
            "<tf.Variable 'Variable:0' shape=(3, 1) dtype=float32, numpy=\n",
            "array([[0.61070615],\n",
            "       [0.3880154 ],\n",
            "       [1.2857926 ]], dtype=float32)>\n"
          ]
        }
      ],
      "source": [
        "# Code it!\n",
        "print(W)"
      ]
    },
    {
      "cell_type": "markdown",
      "metadata": {
        "id": "HpcPef1Yv3_s"
      },
      "source": [
        "## 11. Print the bias\n",
        "\n",
        "```python\n",
        "print(B)\n",
        "```"
      ]
    },
    {
      "cell_type": "code",
      "execution_count": 13,
      "metadata": {
        "id": "Ca6m_mmlv3_s",
        "outputId": "eb567021-331e-4ca9-9e25-e1ed1157cf63",
        "colab": {
          "base_uri": "https://localhost:8080/"
        }
      },
      "outputs": [
        {
          "output_type": "stream",
          "name": "stdout",
          "text": [
            "<tf.Variable 'Variable:0' shape=(1, 1) dtype=float32, numpy=array([[-0.6467506]], dtype=float32)>\n"
          ]
        }
      ],
      "source": [
        "# Code it!\n",
        "print(B)"
      ]
    },
    {
      "cell_type": "markdown",
      "metadata": {
        "id": "xvrZ4YFnv3_t"
      },
      "source": [
        "## 12. Test the perceptron\n",
        "\n",
        "The numbers in the output tensor reflect the perceptron's predictions for each input case. These are not probabilities but the **model's estimate of the output value**. We could set a threshold value and conclude the participant is following the DARN Plan when the value exceeds some number.\n",
        "\n",
        "```python\n",
        "print(perceptron(X))\n",
        "```"
      ]
    },
    {
      "cell_type": "code",
      "execution_count": 14,
      "metadata": {
        "id": "vMrBgmCxv3_t",
        "outputId": "093dfd40-631d-4da3-fd16-7c42662bd8ab",
        "colab": {
          "base_uri": "https://localhost:8080/"
        }
      },
      "outputs": [
        {
          "output_type": "stream",
          "name": "stdout",
          "text": [
            "tf.Tensor(\n",
            "[[ 0.9271592 ]\n",
            " [ 0.77272546]\n",
            " [ 0.8482129 ]\n",
            " [ 0.5642469 ]\n",
            " [ 0.33812228]\n",
            " [-0.25311214]\n",
            " [-0.03602887]\n",
            " [-0.56947845]], shape=(8, 1), dtype=float32)\n"
          ]
        }
      ],
      "source": [
        "# Code it!\n",
        "print(perceptron(X))"
      ]
    },
    {
      "cell_type": "markdown",
      "metadata": {
        "id": "LVb3dTg_v3_t"
      },
      "source": [
        "### Print things more clearly\n",
        "\n",
        "Let's bring the `X`, `y` and predictions together to make it easier to read. Remember that `Yes=1` and `No=0` in the table."
      ]
    },
    {
      "cell_type": "code",
      "execution_count": 15,
      "metadata": {
        "id": "zBhmX8kxv3_t",
        "outputId": "4a5792e8-93a5-4902-d916-fffd748d4e65",
        "colab": {
          "base_uri": "https://localhost:8080/",
          "height": 300
        }
      },
      "outputs": [
        {
          "output_type": "execute_result",
          "data": {
            "text/plain": [
              "   Photos of 3 meals submitted?  Satisfied with food choices?  \\\n",
              "0                           1.0                           1.0   \n",
              "1                           0.0                           1.0   \n",
              "2                           1.0                           0.0   \n",
              "3                           0.0                           0.0   \n",
              "4                           1.0                           1.0   \n",
              "5                           0.0                           1.0   \n",
              "6                           1.0                           0.0   \n",
              "7                           0.0                           0.0   \n",
              "\n",
              "   Generally happy?  Following the DARN Plan?  Predictions  \n",
              "0               1.0                       1.0     0.927159  \n",
              "1               1.0                       1.0     0.772725  \n",
              "2               1.0                       1.0     0.848213  \n",
              "3               1.0                       1.0     0.564247  \n",
              "4               0.0                       1.0     0.338122  \n",
              "5               0.0                       0.0    -0.253112  \n",
              "6               0.0                       0.0    -0.036029  \n",
              "7               0.0                       0.0    -0.569478  "
            ],
            "text/html": [
              "\n",
              "  <div id=\"df-8b71ca83-8605-4f8f-a818-acfe2034407b\" class=\"colab-df-container\">\n",
              "    <div>\n",
              "<style scoped>\n",
              "    .dataframe tbody tr th:only-of-type {\n",
              "        vertical-align: middle;\n",
              "    }\n",
              "\n",
              "    .dataframe tbody tr th {\n",
              "        vertical-align: top;\n",
              "    }\n",
              "\n",
              "    .dataframe thead th {\n",
              "        text-align: right;\n",
              "    }\n",
              "</style>\n",
              "<table border=\"1\" class=\"dataframe\">\n",
              "  <thead>\n",
              "    <tr style=\"text-align: right;\">\n",
              "      <th></th>\n",
              "      <th>Photos of 3 meals submitted?</th>\n",
              "      <th>Satisfied with food choices?</th>\n",
              "      <th>Generally happy?</th>\n",
              "      <th>Following the DARN Plan?</th>\n",
              "      <th>Predictions</th>\n",
              "    </tr>\n",
              "  </thead>\n",
              "  <tbody>\n",
              "    <tr>\n",
              "      <th>0</th>\n",
              "      <td>1.0</td>\n",
              "      <td>1.0</td>\n",
              "      <td>1.0</td>\n",
              "      <td>1.0</td>\n",
              "      <td>0.927159</td>\n",
              "    </tr>\n",
              "    <tr>\n",
              "      <th>1</th>\n",
              "      <td>0.0</td>\n",
              "      <td>1.0</td>\n",
              "      <td>1.0</td>\n",
              "      <td>1.0</td>\n",
              "      <td>0.772725</td>\n",
              "    </tr>\n",
              "    <tr>\n",
              "      <th>2</th>\n",
              "      <td>1.0</td>\n",
              "      <td>0.0</td>\n",
              "      <td>1.0</td>\n",
              "      <td>1.0</td>\n",
              "      <td>0.848213</td>\n",
              "    </tr>\n",
              "    <tr>\n",
              "      <th>3</th>\n",
              "      <td>0.0</td>\n",
              "      <td>0.0</td>\n",
              "      <td>1.0</td>\n",
              "      <td>1.0</td>\n",
              "      <td>0.564247</td>\n",
              "    </tr>\n",
              "    <tr>\n",
              "      <th>4</th>\n",
              "      <td>1.0</td>\n",
              "      <td>1.0</td>\n",
              "      <td>0.0</td>\n",
              "      <td>1.0</td>\n",
              "      <td>0.338122</td>\n",
              "    </tr>\n",
              "    <tr>\n",
              "      <th>5</th>\n",
              "      <td>0.0</td>\n",
              "      <td>1.0</td>\n",
              "      <td>0.0</td>\n",
              "      <td>0.0</td>\n",
              "      <td>-0.253112</td>\n",
              "    </tr>\n",
              "    <tr>\n",
              "      <th>6</th>\n",
              "      <td>1.0</td>\n",
              "      <td>0.0</td>\n",
              "      <td>0.0</td>\n",
              "      <td>0.0</td>\n",
              "      <td>-0.036029</td>\n",
              "    </tr>\n",
              "    <tr>\n",
              "      <th>7</th>\n",
              "      <td>0.0</td>\n",
              "      <td>0.0</td>\n",
              "      <td>0.0</td>\n",
              "      <td>0.0</td>\n",
              "      <td>-0.569478</td>\n",
              "    </tr>\n",
              "  </tbody>\n",
              "</table>\n",
              "</div>\n",
              "    <div class=\"colab-df-buttons\">\n",
              "\n",
              "  <div class=\"colab-df-container\">\n",
              "    <button class=\"colab-df-convert\" onclick=\"convertToInteractive('df-8b71ca83-8605-4f8f-a818-acfe2034407b')\"\n",
              "            title=\"Convert this dataframe to an interactive table.\"\n",
              "            style=\"display:none;\">\n",
              "\n",
              "  <svg xmlns=\"http://www.w3.org/2000/svg\" height=\"24px\" viewBox=\"0 -960 960 960\">\n",
              "    <path d=\"M120-120v-720h720v720H120Zm60-500h600v-160H180v160Zm220 220h160v-160H400v160Zm0 220h160v-160H400v160ZM180-400h160v-160H180v160Zm440 0h160v-160H620v160ZM180-180h160v-160H180v160Zm440 0h160v-160H620v160Z\"/>\n",
              "  </svg>\n",
              "    </button>\n",
              "\n",
              "  <style>\n",
              "    .colab-df-container {\n",
              "      display:flex;\n",
              "      gap: 12px;\n",
              "    }\n",
              "\n",
              "    .colab-df-convert {\n",
              "      background-color: #E8F0FE;\n",
              "      border: none;\n",
              "      border-radius: 50%;\n",
              "      cursor: pointer;\n",
              "      display: none;\n",
              "      fill: #1967D2;\n",
              "      height: 32px;\n",
              "      padding: 0 0 0 0;\n",
              "      width: 32px;\n",
              "    }\n",
              "\n",
              "    .colab-df-convert:hover {\n",
              "      background-color: #E2EBFA;\n",
              "      box-shadow: 0px 1px 2px rgba(60, 64, 67, 0.3), 0px 1px 3px 1px rgba(60, 64, 67, 0.15);\n",
              "      fill: #174EA6;\n",
              "    }\n",
              "\n",
              "    .colab-df-buttons div {\n",
              "      margin-bottom: 4px;\n",
              "    }\n",
              "\n",
              "    [theme=dark] .colab-df-convert {\n",
              "      background-color: #3B4455;\n",
              "      fill: #D2E3FC;\n",
              "    }\n",
              "\n",
              "    [theme=dark] .colab-df-convert:hover {\n",
              "      background-color: #434B5C;\n",
              "      box-shadow: 0px 1px 3px 1px rgba(0, 0, 0, 0.15);\n",
              "      filter: drop-shadow(0px 1px 2px rgba(0, 0, 0, 0.3));\n",
              "      fill: #FFFFFF;\n",
              "    }\n",
              "  </style>\n",
              "\n",
              "    <script>\n",
              "      const buttonEl =\n",
              "        document.querySelector('#df-8b71ca83-8605-4f8f-a818-acfe2034407b button.colab-df-convert');\n",
              "      buttonEl.style.display =\n",
              "        google.colab.kernel.accessAllowed ? 'block' : 'none';\n",
              "\n",
              "      async function convertToInteractive(key) {\n",
              "        const element = document.querySelector('#df-8b71ca83-8605-4f8f-a818-acfe2034407b');\n",
              "        const dataTable =\n",
              "          await google.colab.kernel.invokeFunction('convertToInteractive',\n",
              "                                                    [key], {});\n",
              "        if (!dataTable) return;\n",
              "\n",
              "        const docLinkHtml = 'Like what you see? Visit the ' +\n",
              "          '<a target=\"_blank\" href=https://colab.research.google.com/notebooks/data_table.ipynb>data table notebook</a>'\n",
              "          + ' to learn more about interactive tables.';\n",
              "        element.innerHTML = '';\n",
              "        dataTable['output_type'] = 'display_data';\n",
              "        await google.colab.output.renderOutput(dataTable, element);\n",
              "        const docLink = document.createElement('div');\n",
              "        docLink.innerHTML = docLinkHtml;\n",
              "        element.appendChild(docLink);\n",
              "      }\n",
              "    </script>\n",
              "  </div>\n",
              "\n",
              "\n",
              "    <div id=\"df-d8795d84-c178-461b-ae05-503db08ea484\">\n",
              "      <button class=\"colab-df-quickchart\" onclick=\"quickchart('df-d8795d84-c178-461b-ae05-503db08ea484')\"\n",
              "                title=\"Suggest charts\"\n",
              "                style=\"display:none;\">\n",
              "\n",
              "<svg xmlns=\"http://www.w3.org/2000/svg\" height=\"24px\"viewBox=\"0 0 24 24\"\n",
              "     width=\"24px\">\n",
              "    <g>\n",
              "        <path d=\"M19 3H5c-1.1 0-2 .9-2 2v14c0 1.1.9 2 2 2h14c1.1 0 2-.9 2-2V5c0-1.1-.9-2-2-2zM9 17H7v-7h2v7zm4 0h-2V7h2v10zm4 0h-2v-4h2v4z\"/>\n",
              "    </g>\n",
              "</svg>\n",
              "      </button>\n",
              "\n",
              "<style>\n",
              "  .colab-df-quickchart {\n",
              "      --bg-color: #E8F0FE;\n",
              "      --fill-color: #1967D2;\n",
              "      --hover-bg-color: #E2EBFA;\n",
              "      --hover-fill-color: #174EA6;\n",
              "      --disabled-fill-color: #AAA;\n",
              "      --disabled-bg-color: #DDD;\n",
              "  }\n",
              "\n",
              "  [theme=dark] .colab-df-quickchart {\n",
              "      --bg-color: #3B4455;\n",
              "      --fill-color: #D2E3FC;\n",
              "      --hover-bg-color: #434B5C;\n",
              "      --hover-fill-color: #FFFFFF;\n",
              "      --disabled-bg-color: #3B4455;\n",
              "      --disabled-fill-color: #666;\n",
              "  }\n",
              "\n",
              "  .colab-df-quickchart {\n",
              "    background-color: var(--bg-color);\n",
              "    border: none;\n",
              "    border-radius: 50%;\n",
              "    cursor: pointer;\n",
              "    display: none;\n",
              "    fill: var(--fill-color);\n",
              "    height: 32px;\n",
              "    padding: 0;\n",
              "    width: 32px;\n",
              "  }\n",
              "\n",
              "  .colab-df-quickchart:hover {\n",
              "    background-color: var(--hover-bg-color);\n",
              "    box-shadow: 0 1px 2px rgba(60, 64, 67, 0.3), 0 1px 3px 1px rgba(60, 64, 67, 0.15);\n",
              "    fill: var(--button-hover-fill-color);\n",
              "  }\n",
              "\n",
              "  .colab-df-quickchart-complete:disabled,\n",
              "  .colab-df-quickchart-complete:disabled:hover {\n",
              "    background-color: var(--disabled-bg-color);\n",
              "    fill: var(--disabled-fill-color);\n",
              "    box-shadow: none;\n",
              "  }\n",
              "\n",
              "  .colab-df-spinner {\n",
              "    border: 2px solid var(--fill-color);\n",
              "    border-color: transparent;\n",
              "    border-bottom-color: var(--fill-color);\n",
              "    animation:\n",
              "      spin 1s steps(1) infinite;\n",
              "  }\n",
              "\n",
              "  @keyframes spin {\n",
              "    0% {\n",
              "      border-color: transparent;\n",
              "      border-bottom-color: var(--fill-color);\n",
              "      border-left-color: var(--fill-color);\n",
              "    }\n",
              "    20% {\n",
              "      border-color: transparent;\n",
              "      border-left-color: var(--fill-color);\n",
              "      border-top-color: var(--fill-color);\n",
              "    }\n",
              "    30% {\n",
              "      border-color: transparent;\n",
              "      border-left-color: var(--fill-color);\n",
              "      border-top-color: var(--fill-color);\n",
              "      border-right-color: var(--fill-color);\n",
              "    }\n",
              "    40% {\n",
              "      border-color: transparent;\n",
              "      border-right-color: var(--fill-color);\n",
              "      border-top-color: var(--fill-color);\n",
              "    }\n",
              "    60% {\n",
              "      border-color: transparent;\n",
              "      border-right-color: var(--fill-color);\n",
              "    }\n",
              "    80% {\n",
              "      border-color: transparent;\n",
              "      border-right-color: var(--fill-color);\n",
              "      border-bottom-color: var(--fill-color);\n",
              "    }\n",
              "    90% {\n",
              "      border-color: transparent;\n",
              "      border-bottom-color: var(--fill-color);\n",
              "    }\n",
              "  }\n",
              "</style>\n",
              "\n",
              "      <script>\n",
              "        async function quickchart(key) {\n",
              "          const quickchartButtonEl =\n",
              "            document.querySelector('#' + key + ' button');\n",
              "          quickchartButtonEl.disabled = true;  // To prevent multiple clicks.\n",
              "          quickchartButtonEl.classList.add('colab-df-spinner');\n",
              "          try {\n",
              "            const charts = await google.colab.kernel.invokeFunction(\n",
              "                'suggestCharts', [key], {});\n",
              "          } catch (error) {\n",
              "            console.error('Error during call to suggestCharts:', error);\n",
              "          }\n",
              "          quickchartButtonEl.classList.remove('colab-df-spinner');\n",
              "          quickchartButtonEl.classList.add('colab-df-quickchart-complete');\n",
              "        }\n",
              "        (() => {\n",
              "          let quickchartButtonEl =\n",
              "            document.querySelector('#df-d8795d84-c178-461b-ae05-503db08ea484 button');\n",
              "          quickchartButtonEl.style.display =\n",
              "            google.colab.kernel.accessAllowed ? 'block' : 'none';\n",
              "        })();\n",
              "      </script>\n",
              "    </div>\n",
              "\n",
              "  <div id=\"id_ba228f87-4435-48f1-9f8a-edf8f50c5b58\">\n",
              "    <style>\n",
              "      .colab-df-generate {\n",
              "        background-color: #E8F0FE;\n",
              "        border: none;\n",
              "        border-radius: 50%;\n",
              "        cursor: pointer;\n",
              "        display: none;\n",
              "        fill: #1967D2;\n",
              "        height: 32px;\n",
              "        padding: 0 0 0 0;\n",
              "        width: 32px;\n",
              "      }\n",
              "\n",
              "      .colab-df-generate:hover {\n",
              "        background-color: #E2EBFA;\n",
              "        box-shadow: 0px 1px 2px rgba(60, 64, 67, 0.3), 0px 1px 3px 1px rgba(60, 64, 67, 0.15);\n",
              "        fill: #174EA6;\n",
              "      }\n",
              "\n",
              "      [theme=dark] .colab-df-generate {\n",
              "        background-color: #3B4455;\n",
              "        fill: #D2E3FC;\n",
              "      }\n",
              "\n",
              "      [theme=dark] .colab-df-generate:hover {\n",
              "        background-color: #434B5C;\n",
              "        box-shadow: 0px 1px 3px 1px rgba(0, 0, 0, 0.15);\n",
              "        filter: drop-shadow(0px 1px 2px rgba(0, 0, 0, 0.3));\n",
              "        fill: #FFFFFF;\n",
              "      }\n",
              "    </style>\n",
              "    <button class=\"colab-df-generate\" onclick=\"generateWithVariable('df')\"\n",
              "            title=\"Generate code using this dataframe.\"\n",
              "            style=\"display:none;\">\n",
              "\n",
              "  <svg xmlns=\"http://www.w3.org/2000/svg\" height=\"24px\"viewBox=\"0 0 24 24\"\n",
              "       width=\"24px\">\n",
              "    <path d=\"M7,19H8.4L18.45,9,17,7.55,7,17.6ZM5,21V16.75L18.45,3.32a2,2,0,0,1,2.83,0l1.4,1.43a1.91,1.91,0,0,1,.58,1.4,1.91,1.91,0,0,1-.58,1.4L9.25,21ZM18.45,9,17,7.55Zm-12,3A5.31,5.31,0,0,0,4.9,8.1,5.31,5.31,0,0,0,1,6.5,5.31,5.31,0,0,0,4.9,4.9,5.31,5.31,0,0,0,6.5,1,5.31,5.31,0,0,0,8.1,4.9,5.31,5.31,0,0,0,12,6.5,5.46,5.46,0,0,0,6.5,12Z\"/>\n",
              "  </svg>\n",
              "    </button>\n",
              "    <script>\n",
              "      (() => {\n",
              "      const buttonEl =\n",
              "        document.querySelector('#id_ba228f87-4435-48f1-9f8a-edf8f50c5b58 button.colab-df-generate');\n",
              "      buttonEl.style.display =\n",
              "        google.colab.kernel.accessAllowed ? 'block' : 'none';\n",
              "\n",
              "      buttonEl.onclick = () => {\n",
              "        google.colab.notebook.generateWithVariable('df');\n",
              "      }\n",
              "      })();\n",
              "    </script>\n",
              "  </div>\n",
              "\n",
              "    </div>\n",
              "  </div>\n"
            ],
            "application/vnd.google.colaboratory.intrinsic+json": {
              "type": "dataframe",
              "variable_name": "df",
              "summary": "{\n  \"name\": \"df\",\n  \"rows\": 8,\n  \"fields\": [\n    {\n      \"column\": \"Photos of 3 meals submitted?\",\n      \"properties\": {\n        \"dtype\": \"float32\",\n        \"num_unique_values\": 2,\n        \"samples\": [\n          0.0,\n          1.0\n        ],\n        \"semantic_type\": \"\",\n        \"description\": \"\"\n      }\n    },\n    {\n      \"column\": \"Satisfied with food choices?\",\n      \"properties\": {\n        \"dtype\": \"float32\",\n        \"num_unique_values\": 2,\n        \"samples\": [\n          0.0,\n          1.0\n        ],\n        \"semantic_type\": \"\",\n        \"description\": \"\"\n      }\n    },\n    {\n      \"column\": \"Generally happy?\",\n      \"properties\": {\n        \"dtype\": \"float32\",\n        \"num_unique_values\": 2,\n        \"samples\": [\n          0.0,\n          1.0\n        ],\n        \"semantic_type\": \"\",\n        \"description\": \"\"\n      }\n    },\n    {\n      \"column\": \"Following the DARN Plan?\",\n      \"properties\": {\n        \"dtype\": \"float32\",\n        \"num_unique_values\": 2,\n        \"samples\": [\n          0.0,\n          1.0\n        ],\n        \"semantic_type\": \"\",\n        \"description\": \"\"\n      }\n    },\n    {\n      \"column\": \"Predictions\",\n      \"properties\": {\n        \"dtype\": \"float32\",\n        \"num_unique_values\": 8,\n        \"samples\": [\n          0.7727254629135132,\n          -0.25311213731765747\n        ],\n        \"semantic_type\": \"\",\n        \"description\": \"\"\n      }\n    }\n  ]\n}"
            }
          },
          "metadata": {},
          "execution_count": 15
        }
      ],
      "source": [
        "X_df = pd.DataFrame(X.numpy(), columns=['Photos of 3 meals submitted?', 'Satisfied with food choices?', 'Generally happy?'])\n",
        "y_df = pd.DataFrame(y.numpy(), columns=['Following the DARN Plan?'])\n",
        "pred_df = pd.DataFrame(perceptron(X).numpy(), columns=['Predictions'])\n",
        "df = pd.concat([X_df, y_df, pred_df], axis=1)\n",
        "df"
      ]
    },
    {
      "cell_type": "markdown",
      "metadata": {
        "id": "oceA15KMv3_t"
      },
      "source": [
        "## 13. Let's see how different choices would change the results\n",
        "\n",
        "### Did we run enough epochs?\n",
        "\n",
        "You may want to increase the number of epochs used.\n",
        "\n",
        "### Change the outcomes\n",
        "\n",
        "Usually, we don't change the data we are working with, but in this example, we do this so that you can see the link between the input data and the weights learned. Let's change the participant outcomes and see what happens to the learned weights and predictions.\n",
        "\n",
        "#### Change 1: participants are more likely to follow the DARN Plan when they like the food choices:\n",
        "\n",
        "`y = tf.Variable([1, 1, 0, 0, 1, 0, 0, 0], dtype = tf.float32)`\n",
        "\n",
        "#### Change 2: participants are more likely to follow the DARN Plan when they regularly submit three photos a day:\n",
        "\n",
        "`y = tf.Variable([1, 0, 1, 0, 1, 0, 1, 0], dtype = tf.float32)`\n",
        "\n",
        "Feel free to play with other parts of the model; everything but the X inputs is replicated below to put it all in one place for easy reference. Comments point out hyperparameters that you might want to change."
      ]
    },
    {
      "cell_type": "code",
      "execution_count": 16,
      "metadata": {
        "id": "z8CL1NnJv3_t",
        "outputId": "52e2dfbd-5def-4a13-8b72-d67b46a92886",
        "colab": {
          "base_uri": "https://localhost:8080/",
          "height": 219
        }
      },
      "outputs": [
        {
          "output_type": "error",
          "ename": "AttributeError",
          "evalue": "'SGD' object has no attribute 'minimize'",
          "traceback": [
            "\u001b[0;31m---------------------------------------------------------------------------\u001b[0m",
            "\u001b[0;31mAttributeError\u001b[0m                            Traceback (most recent call last)",
            "\u001b[0;32m<ipython-input-16-fb28dea9a1c7>\u001b[0m in \u001b[0;36m<cell line: 0>\u001b[0;34m()\u001b[0m\n\u001b[1;32m     29\u001b[0m \u001b[0;32mfor\u001b[0m \u001b[0mn\u001b[0m \u001b[0;32min\u001b[0m \u001b[0mrange\u001b[0m\u001b[0;34m(\u001b[0m\u001b[0mno_of_epochs\u001b[0m\u001b[0;34m)\u001b[0m\u001b[0;34m:\u001b[0m\u001b[0;34m\u001b[0m\u001b[0;34m\u001b[0m\u001b[0m\n\u001b[1;32m     30\u001b[0m     \u001b[0mloss\u001b[0m \u001b[0;34m=\u001b[0m \u001b[0;32mlambda\u001b[0m\u001b[0;34m:\u001b[0m\u001b[0mabs\u001b[0m\u001b[0;34m(\u001b[0m\u001b[0mtf\u001b[0m\u001b[0;34m.\u001b[0m\u001b[0mreduce_mean\u001b[0m\u001b[0;34m(\u001b[0m\u001b[0mtf\u001b[0m\u001b[0;34m.\u001b[0m\u001b[0mnn\u001b[0m\u001b[0;34m.\u001b[0m\u001b[0msigmoid_cross_entropy_with_logits\u001b[0m\u001b[0;34m(\u001b[0m\u001b[0mlabels\u001b[0m \u001b[0;34m=\u001b[0m \u001b[0my\u001b[0m\u001b[0;34m,\u001b[0m \u001b[0mlogits\u001b[0m \u001b[0;34m=\u001b[0m \u001b[0mperceptron\u001b[0m\u001b[0;34m(\u001b[0m\u001b[0mX\u001b[0m\u001b[0;34m)\u001b[0m\u001b[0;34m)\u001b[0m\u001b[0;34m)\u001b[0m\u001b[0;34m)\u001b[0m\u001b[0;34m\u001b[0m\u001b[0;34m\u001b[0m\u001b[0m\n\u001b[0;32m---> 31\u001b[0;31m     \u001b[0moptimizer\u001b[0m\u001b[0;34m.\u001b[0m\u001b[0mminimize\u001b[0m\u001b[0;34m(\u001b[0m\u001b[0mloss\u001b[0m\u001b[0;34m,\u001b[0m \u001b[0;34m[\u001b[0m\u001b[0mW\u001b[0m\u001b[0;34m,\u001b[0m \u001b[0mB\u001b[0m\u001b[0;34m]\u001b[0m\u001b[0;34m)\u001b[0m\u001b[0;34m\u001b[0m\u001b[0;34m\u001b[0m\u001b[0m\n\u001b[0m\u001b[1;32m     32\u001b[0m \u001b[0;34m\u001b[0m\u001b[0m\n\u001b[1;32m     33\u001b[0m \u001b[0;31m## From steps 10 on, printing the output\u001b[0m\u001b[0;34m\u001b[0m\u001b[0;34m\u001b[0m\u001b[0m\n",
            "\u001b[0;31mAttributeError\u001b[0m: 'SGD' object has no attribute 'minimize'"
          ]
        }
      ],
      "source": [
        "## From step 3\n",
        "# Outputs:       1, 2, 3, 4, 5, 6, 7, 8 - one for each case in the table\n",
        "y = tf.Variable([1, 1, 0, 0, 1, 0, 0, 0], dtype = tf.float32)  # Change 1 has been made, you'll need to make change 2\n",
        "y = tf.reshape(y, [8,1])  # convert to 4x1\n",
        "\n",
        "## From step 4\n",
        "num_features = X.shape[1]\n",
        "output_size = 1\n",
        "\n",
        "## From step 5\n",
        "W = tf.Variable(tf.zeros([num_features, output_size]), dtype = tf.float32)\n",
        "\n",
        "## From step 6\n",
        "B = tf.Variable(tf.zeros([output_size, 1]), dtype = tf.float32)\n",
        "\n",
        "## From step 7\n",
        "def perceptron(X):\n",
        "    z = tf.add(tf.matmul(X, W), B)\n",
        "    output = tf.tanh(z)                  # Activation function is a good hyperparameter to change\n",
        "    return output\n",
        "\n",
        "## From step 8\n",
        "learning_rate = 0.01  # Learning rate is a good hyperparameter to change\n",
        "optimizer = tf.optimizers.SGD(learning_rate)\n",
        "\n",
        "## From step 9\n",
        "no_of_epochs = 1000  # Number of epochs is a good hyperparameter to change\n",
        "\n",
        "for n in range(no_of_epochs):\n",
        "    loss = lambda:abs(tf.reduce_mean(tf.nn.sigmoid_cross_entropy_with_logits(labels = y, logits = perceptron(X))))\n",
        "    optimizer.minimize(loss, [W, B])\n",
        "\n",
        "## From steps 10 on, printing the output\n",
        "print(f'Weights: {W}')\n",
        "print(f'Bias: {B}')\n",
        "\n",
        "X_df = pd.DataFrame(X.numpy(), columns=['Photos of 3 meals submitted?', 'Satisfied with food choices?', 'Generally happy?'])\n",
        "y_df = pd.DataFrame(y.numpy(), columns=['Following the DARN Plan?'])\n",
        "pred_df = pd.DataFrame(perceptron(X).numpy(), columns=['Predictions'])\n",
        "df = pd.concat([X_df, y_df, pred_df], axis=1)\n",
        "df"
      ]
    },
    {
      "cell_type": "markdown",
      "metadata": {
        "id": "8iOZ8NEYv3_t"
      },
      "source": [
        "## Before continuing\n",
        "###  <img src='https://github.com/saiid23/deep_learning_ai/blob/main/images/alert_icon.svg?raw=1' alt=\"Alert icon\" width=40 align=center> Alert!\n",
        "> Before continuing to another notebook within the same Jupyter session,\n",
        "> use the **\"Running Terminals and Kernels\" tab** (below the File Browser tab) to **shut down this kernel**.\n",
        "> This will free up this notebook's GPU memory, making it available for\n",
        "> your next notebook.\n",
        ">\n",
        "> Every time you run multiple notebooks within a Jupyter session with\n",
        "> a GPU, this should be done.\n",
        "\n",
        "----\n",
        "## Push changes to GitHub <img src=\"https://github.com/saiid23/deep_learning_ai/blob/main/images/push_to_github.png?raw=1\" alt=\"Push to GitHub icon\" align=\"right\" width=150>\n",
        "\n",
        " Remember to **add**, **commit**, and **push** the changes you have made to this notebook to GitHub to keep your repository in sync.\n",
        "\n",
        "In Jupyter, those are done in the git tab on the left. In Google Colab, use File > Save a copy in GitHub.\n"
      ]
    },
    {
      "cell_type": "code",
      "execution_count": null,
      "metadata": {
        "id": "1-b04Ycav3_u"
      },
      "outputs": [],
      "source": []
    }
  ],
  "metadata": {
    "kernelspec": {
      "display_name": "Tensorflow-2.15",
      "language": "python",
      "name": "tensorflow-2.15"
    },
    "language_info": {
      "codemirror_mode": {
        "name": "ipython",
        "version": 3
      },
      "file_extension": ".py",
      "mimetype": "text/x-python",
      "name": "python",
      "nbconvert_exporter": "python",
      "pygments_lexer": "ipython3",
      "version": "3.11.5"
    },
    "colab": {
      "provenance": []
    }
  },
  "nbformat": 4,
  "nbformat_minor": 0
}